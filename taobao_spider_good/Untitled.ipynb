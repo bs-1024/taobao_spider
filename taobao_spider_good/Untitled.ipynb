{
 "cells": [
  {
   "cell_type": "code",
   "execution_count": 64,
   "metadata": {},
   "outputs": [],
   "source": [
    "import pandas as pd\n",
    "import numpy as np\n",
    "import jieba.analyse\n",
    "GOODS_EXCEL_PATH = 'taobao_goods.xlsx'\n",
    "GOODS_STANDARD_EXCEL_PATH = 'taobao_goods_standard.xlsx'\n",
    "# 清洗词\n",
    "STOP_WORDS_FILE_PATH = 'stop_words.txt'\n",
    "from pyecharts import options as opts\n",
    "from pyecharts.globals import SymbolType\n",
    "from pyecharts.charts import Pie, Bar, Map, WordCloud"
   ]
  },
  {
   "cell_type": "code",
   "execution_count": 65,
   "metadata": {},
   "outputs": [],
   "source": [
    "data = pd.read_excel(GOODS_STANDARD_EXCEL_PATH)"
   ]
  },
  {
   "cell_type": "code",
   "execution_count": 6,
   "metadata": {},
   "outputs": [],
   "source": [
    "jieba.analyse.set_stop_words(STOP_WORDS_FILE_PATH)"
   ]
  },
  {
   "cell_type": "code",
   "execution_count": 7,
   "metadata": {},
   "outputs": [
    {
     "name": "stderr",
     "output_type": "stream",
     "text": [
      "Building prefix dict from the default dictionary ...\n",
      "Loading model from cache C:\\Users\\sunbiao\\AppData\\Local\\Temp\\jieba.cache\n",
      "Loading model cost 0.641 seconds.\n",
      "Prefix dict has been built succesfully.\n"
     ]
    }
   ],
   "source": [
    "keywords_count_list = jieba.analyse.textrank(' '.join(data.title), topK=50, withWeight=True)"
   ]
  },
  {
   "cell_type": "code",
   "execution_count": 8,
   "metadata": {},
   "outputs": [],
   "source": [
    "word_cloud = (\n",
    "        WordCloud()\n",
    "        .add(\"\", keywords_count_list, word_size_range=[20, 100], shape=SymbolType.DIAMOND)\n",
    "        .set_global_opts(title_opts=opts.TitleOpts('title=\"避孕套功能词云TOP50\"'))\n",
    "\n",
    ")"
   ]
  },
  {
   "cell_type": "code",
   "execution_count": 9,
   "metadata": {},
   "outputs": [],
   "source": [
    "keywords_count_dict = {i[0]: 0 for i in reversed(keywords_count_list[:20])}"
   ]
  },
  {
   "cell_type": "code",
   "execution_count": 81,
   "metadata": {},
   "outputs": [],
   "source": [
    "keywords_count_dict = {i[0]: 0 for i in keywords_count_list[:20]}"
   ]
  },
  {
   "cell_type": "code",
   "execution_count": 11,
   "metadata": {},
   "outputs": [
    {
     "data": {
      "text/plain": [
       "'E:\\\\deep_learning\\\\taobao_spider\\\\price-pie.html'"
      ]
     },
     "execution_count": 11,
     "metadata": {},
     "output_type": "execute_result"
    }
   ],
   "source": [
    "# 设置切分区域\n",
    "price_list_bins = [0, 20, 40, 60, 80, 100, 120, 150, 200, 1000000]\n",
    "# 设置切分后对应标签\n",
    "price_list_labels = ['0-20', '21-40', '41-60', '61-80', '81-100', '101-120', '121-150', '151-200', '200以上']\n",
    "data_labels_list = pd.cut(data['price'], bins=price_list_bins, labels=price_list_labels, include_lowest=True)\n",
    "# 生成一个以listLabels为顺序的字典，这样就不需要后面重新排序\n",
    "data_count = {i: 0 for i in price_list_labels}\n",
    "# 统计结果\n",
    "for value in data_labels_list:\n",
    "    # get(value, num)函数的作用是获取字典中value对应的键值, num=0指示初始值大小。\n",
    "    data_count[value] = data_count.get(value) + 1\n",
    "bar = (\n",
    "    Bar()\n",
    "    .add_xaxis(list(data_count.keys()))\n",
    "    .add_yaxis(\"\", list(data_count.values()))\n",
    "    .set_global_opts(\n",
    "        title_opts=opts.TitleOpts(title=\"避孕套商品价格区间分布柱状体\"),\n",
    "        yaxis_opts=opts.AxisOpts(name=\"个商品\"),\n",
    "        xaxis_opts=opts.AxisOpts(name=\"商品售价：元\")\n",
    "    )\n",
    ")\n",
    "bar.render('price-bar.html')\n",
    "# 生成饼图\n",
    "age_count_list = [list(z) for z in zip(data_count.keys(), data_count.values())]\n",
    "pie = (\n",
    "    Pie()\n",
    "    .add(\"\", age_count_list)\n",
    "    .set_global_opts(title_opts=opts.TitleOpts(title=\"避孕套商品价格区间饼图\"))\n",
    "    .set_series_opts(label_opts=opts.LabelOpts(formatter=\"{b}: {c}\"))\n",
    ")\n",
    "pie.render('price-pie.html')"
   ]
  },
  {
   "cell_type": "code",
   "execution_count": 41,
   "metadata": {},
   "outputs": [],
   "source": [
    "from pyecharts.render import make_snapshot\n",
    "from snapshot_selenium import snapshot\n",
    "\n",
    "# 取前20高频的关键词\n",
    "keywords_count_dict = {i[0]: 0 for i in reversed(keywords_count_list[:20])}\n",
    "cut_words = jieba.cut(' '.join(data['title']))\n",
    "for word in cut_words:\n",
    "    for keyword in keywords_count_dict.keys():\n",
    "        if word == keyword:\n",
    "            keywords_count_dict[keyword] += 1\n",
    "keywords_list = list(keywords_count_dict.items())\n",
    "keywords_list.sort(key=lambda x: x[1], reverse=False)\n",
    "keywords_count_dict = dict(keywords_list)\n",
    "# 2.2生成柱状图\n",
    "keywords_count_bar = (\n",
    "    Bar()\n",
    "    .add_xaxis(list(keywords_count_dict.keys()))\n",
    "    .add_yaxis(\"heihei\", list(keywords_count_dict.values()))\n",
    "    .reversal_axis()\n",
    "    .set_series_opts(label_opts=opts.LabelOpts(position=\"right\"))\n",
    "    .set_global_opts(\n",
    "        title_opts=opts.TitleOpts(title=\"避孕套功能TOP20\"),\n",
    "        yaxis_opts=opts.AxisOpts(name=\"功能\"),\n",
    "        xaxis_opts=opts.AxisOpts(name=\"商品数\")\n",
    "    )\n",
    ")\n",
    "make_snapshot(snapshot, keywords_count_bar.render(), \"bar.png\")"
   ]
  },
  {
   "cell_type": "code",
   "execution_count": 38,
   "metadata": {},
   "outputs": [
    {
     "data": {
      "text/plain": [
       "'E:\\\\deep_learning\\\\taobao_spider\\\\render.html'"
      ]
     },
     "execution_count": 38,
     "metadata": {},
     "output_type": "execute_result"
    }
   ],
   "source": [
    "from pyecharts.faker import Faker\n",
    "from pyecharts import options as opts\n",
    "from pyecharts.charts import Bar\n",
    "\n",
    "\n",
    "c = (\n",
    "    Bar()\n",
    "    .add_xaxis(Faker.choose())\n",
    "    .add_yaxis(\"商家A\", Faker.values())\n",
    "    .add_yaxis(\"商家B\", Faker.values())\n",
    "#         .set_series_opts(label_opts=opts.LabelOpts())\n",
    "    .set_global_opts(\n",
    "        title_opts=opts.TitleOpts(title=\"Bar-基本示例\", subtitle=\"我是副标题\")\n",
    "    )\n",
    ")\n",
    "c.render()"
   ]
  },
  {
   "cell_type": "code",
   "execution_count": 37,
   "metadata": {},
   "outputs": [
    {
     "data": {
      "text/plain": [
       "'E:\\\\deep_learning\\\\taobao_spider\\\\c.png'"
      ]
     },
     "execution_count": 37,
     "metadata": {},
     "output_type": "execute_result"
    }
   ],
   "source": [
    "bar_base()"
   ]
  },
  {
   "cell_type": "code",
   "execution_count": 45,
   "metadata": {},
   "outputs": [],
   "source": [
    "province_sales = data.location.value_counts()"
   ]
  },
  {
   "cell_type": "code",
   "execution_count": 47,
   "metadata": {},
   "outputs": [],
   "source": [
    "province_sales_list = [list(item) for item in province_sales.items()]"
   ]
  },
  {
   "cell_type": "code",
   "execution_count": 104,
   "metadata": {},
   "outputs": [
    {
     "data": {
      "text/plain": [
       "'E:\\\\deep_learning\\\\taobao_spider\\\\province-seller-map.html'"
      ]
     },
     "execution_count": 104,
     "metadata": {},
     "output_type": "execute_result"
    }
   ],
   "source": [
    "province_sales_map = (\n",
    "        Map()\n",
    "            .add(\"前两千款避孕套商家数量全国分布图\", province_sales_dict, \"china\")\n",
    "            .set_global_opts(\n",
    "            visualmap_opts=opts.VisualMapOpts(max_=647),\n",
    "        )\n",
    "    )\n",
    "province_sales_map.render('province-seller-map.html')"
   ]
  },
  {
   "cell_type": "code",
   "execution_count": 99,
   "metadata": {},
   "outputs": [
    {
     "data": {
      "text/plain": [
       "'E:\\\\deep_learning\\\\taobao_spider\\\\2.html'"
      ]
     },
     "execution_count": 99,
     "metadata": {},
     "output_type": "execute_result"
    }
   ],
   "source": [
    "item = {}\n",
    "for location in list(set(data['location'].values)):\n",
    "    for row in data.iterrows():\n",
    "        if location == row[1].location:\n",
    "            item.setdefault(location, []).append(row[1].sales)\n",
    "\n",
    "for location in item:\n",
    "    item[location] = round(sum(item[location])/len(item[location]), 1)\n",
    "\n",
    "list1 = list(item.items())\n",
    "list1.sort(key=lambda x: x[1], reverse=False)\n",
    "item = dict(list1)\n",
    "k = (\n",
    "    Bar()\n",
    "    .add_xaxis(list(item.keys()))\n",
    "    .add_yaxis(\"\", list(item.values()))\n",
    "    .reversal_axis()\n",
    "    .set_series_opts(label_opts=opts.LabelOpts(position='right'))\n",
    "    .set_global_opts(\n",
    "        title_opts=opts.TitleOpts(title='heihei'),\n",
    "        yaxis_opts=opts.AxisOpts(name='y'),\n",
    "        xaxis_opts=opts.AxisOpts(name='x')\n",
    "    )\n",
    ")\n",
    "k.render('1.html')\n",
    "p = (\n",
    "    Pie()\n",
    "    .add(\"\", list(item.items()))\n",
    "    .set_global_opts(title_opts=opts.TitleOpts(title='商品'))\n",
    "    .set_series_opts(label_opts=opts.LabelOpts(formatter=\"{b}: {c}\"))\n",
    ")\n",
    "p.render('2.html')"
   ]
  },
  {
   "cell_type": "code",
   "execution_count": 114,
   "metadata": {},
   "outputs": [
    {
     "data": {
      "text/html": [
       "<div>\n",
       "<style scoped>\n",
       "    .dataframe tbody tr th:only-of-type {\n",
       "        vertical-align: middle;\n",
       "    }\n",
       "\n",
       "    .dataframe tbody tr th {\n",
       "        vertical-align: top;\n",
       "    }\n",
       "\n",
       "    .dataframe thead th {\n",
       "        text-align: right;\n",
       "    }\n",
       "</style>\n",
       "<table border=\"1\" class=\"dataframe\">\n",
       "  <thead>\n",
       "    <tr style=\"text-align: right;\">\n",
       "      <th></th>\n",
       "      <th>sales</th>\n",
       "    </tr>\n",
       "    <tr>\n",
       "      <th>location</th>\n",
       "      <th></th>\n",
       "    </tr>\n",
       "  </thead>\n",
       "  <tbody>\n",
       "    <tr>\n",
       "      <th>山西</th>\n",
       "      <td>1535.793103</td>\n",
       "    </tr>\n",
       "    <tr>\n",
       "      <th>广东</th>\n",
       "      <td>804.899536</td>\n",
       "    </tr>\n",
       "    <tr>\n",
       "      <th>上海</th>\n",
       "      <td>713.702760</td>\n",
       "    </tr>\n",
       "    <tr>\n",
       "      <th>日本</th>\n",
       "      <td>658.444444</td>\n",
       "    </tr>\n",
       "    <tr>\n",
       "      <th>北京</th>\n",
       "      <td>495.701389</td>\n",
       "    </tr>\n",
       "    <tr>\n",
       "      <th>天津</th>\n",
       "      <td>396.095238</td>\n",
       "    </tr>\n",
       "    <tr>\n",
       "      <th>江苏</th>\n",
       "      <td>390.172932</td>\n",
       "    </tr>\n",
       "    <tr>\n",
       "      <th>安徽</th>\n",
       "      <td>366.642857</td>\n",
       "    </tr>\n",
       "    <tr>\n",
       "      <th>湖北</th>\n",
       "      <td>336.625000</td>\n",
       "    </tr>\n",
       "    <tr>\n",
       "      <th>浙江</th>\n",
       "      <td>290.442907</td>\n",
       "    </tr>\n",
       "    <tr>\n",
       "      <th>福建</th>\n",
       "      <td>249.750000</td>\n",
       "    </tr>\n",
       "    <tr>\n",
       "      <th>山东</th>\n",
       "      <td>214.983193</td>\n",
       "    </tr>\n",
       "    <tr>\n",
       "      <th>重庆</th>\n",
       "      <td>212.538462</td>\n",
       "    </tr>\n",
       "    <tr>\n",
       "      <th>河南</th>\n",
       "      <td>153.127273</td>\n",
       "    </tr>\n",
       "    <tr>\n",
       "      <th>四川</th>\n",
       "      <td>151.254902</td>\n",
       "    </tr>\n",
       "    <tr>\n",
       "      <th>辽宁</th>\n",
       "      <td>147.166667</td>\n",
       "    </tr>\n",
       "    <tr>\n",
       "      <th>江西</th>\n",
       "      <td>125.851852</td>\n",
       "    </tr>\n",
       "    <tr>\n",
       "      <th>甘肃</th>\n",
       "      <td>114.000000</td>\n",
       "    </tr>\n",
       "    <tr>\n",
       "      <th>湖南</th>\n",
       "      <td>108.424242</td>\n",
       "    </tr>\n",
       "    <tr>\n",
       "      <th>广西</th>\n",
       "      <td>95.590909</td>\n",
       "    </tr>\n",
       "    <tr>\n",
       "      <th>吉林</th>\n",
       "      <td>59.000000</td>\n",
       "    </tr>\n",
       "    <tr>\n",
       "      <th>河北</th>\n",
       "      <td>57.470588</td>\n",
       "    </tr>\n",
       "    <tr>\n",
       "      <th>陕西</th>\n",
       "      <td>57.375000</td>\n",
       "    </tr>\n",
       "    <tr>\n",
       "      <th>云南</th>\n",
       "      <td>53.666667</td>\n",
       "    </tr>\n",
       "    <tr>\n",
       "      <th>宁夏</th>\n",
       "      <td>41.000000</td>\n",
       "    </tr>\n",
       "    <tr>\n",
       "      <th>黑龙江</th>\n",
       "      <td>29.000000</td>\n",
       "    </tr>\n",
       "    <tr>\n",
       "      <th>海外</th>\n",
       "      <td>21.000000</td>\n",
       "    </tr>\n",
       "    <tr>\n",
       "      <th>德国</th>\n",
       "      <td>14.750000</td>\n",
       "    </tr>\n",
       "    <tr>\n",
       "      <th>美国</th>\n",
       "      <td>6.000000</td>\n",
       "    </tr>\n",
       "  </tbody>\n",
       "</table>\n",
       "</div>"
      ],
      "text/plain": [
       "                sales\n",
       "location             \n",
       "山西        1535.793103\n",
       "广东         804.899536\n",
       "上海         713.702760\n",
       "日本         658.444444\n",
       "北京         495.701389\n",
       "天津         396.095238\n",
       "江苏         390.172932\n",
       "安徽         366.642857\n",
       "湖北         336.625000\n",
       "浙江         290.442907\n",
       "福建         249.750000\n",
       "山东         214.983193\n",
       "重庆         212.538462\n",
       "河南         153.127273\n",
       "四川         151.254902\n",
       "辽宁         147.166667\n",
       "江西         125.851852\n",
       "甘肃         114.000000\n",
       "湖南         108.424242\n",
       "广西          95.590909\n",
       "吉林          59.000000\n",
       "河北          57.470588\n",
       "陕西          57.375000\n",
       "云南          53.666667\n",
       "宁夏          41.000000\n",
       "黑龙江         29.000000\n",
       "海外          21.000000\n",
       "德国          14.750000\n",
       "美国           6.000000"
      ]
     },
     "execution_count": 114,
     "metadata": {},
     "output_type": "execute_result"
    }
   ],
   "source": [
    "data=data.pivot_table(index='location', values='sales', aggfunc=np.mean)\n",
    "data.sort_values('sales', inplace=True, ascending=False)\n",
    "data"
   ]
  },
  {
   "cell_type": "code",
   "execution_count": 118,
   "metadata": {},
   "outputs": [
    {
     "ename": "TypeError",
     "evalue": "'Categorical' object is not callable",
     "output_type": "error",
     "traceback": [
      "\u001b[1;31m---------------------------------------------------------------------------\u001b[0m",
      "\u001b[1;31mTypeError\u001b[0m                                 Traceback (most recent call last)",
      "\u001b[1;32m<ipython-input-118-8b46f44cffda>\u001b[0m in \u001b[0;36m<module>\u001b[1;34m\u001b[0m\n\u001b[0;32m     12\u001b[0m     \u001b[0mBar\u001b[0m\u001b[1;33m(\u001b[0m\u001b[1;33m)\u001b[0m\u001b[1;33m\u001b[0m\u001b[1;33m\u001b[0m\u001b[0m\n\u001b[0;32m     13\u001b[0m     \u001b[1;33m.\u001b[0m\u001b[0madd_xaxis\u001b[0m\u001b[1;33m(\u001b[0m\u001b[0mlist\u001b[0m\u001b[1;33m(\u001b[0m\u001b[0msales_count_list\u001b[0m\u001b[1;33m.\u001b[0m\u001b[0mkeys\u001b[0m\u001b[1;33m(\u001b[0m\u001b[1;33m)\u001b[0m\u001b[1;33m)\u001b[0m\u001b[1;33m)\u001b[0m\u001b[1;33m\u001b[0m\u001b[1;33m\u001b[0m\u001b[0m\n\u001b[1;32m---> 14\u001b[1;33m     \u001b[1;33m.\u001b[0m\u001b[0madd_yaxis\u001b[0m\u001b[1;33m(\u001b[0m\u001b[1;34m\"\"\u001b[0m\u001b[1;33m,\u001b[0m \u001b[0mlist\u001b[0m\u001b[1;33m(\u001b[0m\u001b[0msales_count_list\u001b[0m\u001b[1;33m.\u001b[0m\u001b[0mvalues\u001b[0m\u001b[1;33m(\u001b[0m\u001b[1;33m)\u001b[0m\u001b[1;33m)\u001b[0m\u001b[1;33m)\u001b[0m\u001b[1;33m\u001b[0m\u001b[1;33m\u001b[0m\u001b[0m\n\u001b[0m\u001b[0;32m     15\u001b[0m     .set_global_opts(\n\u001b[0;32m     16\u001b[0m         \u001b[0mtitle_opts\u001b[0m\u001b[1;33m=\u001b[0m\u001b[0mopts\u001b[0m\u001b[1;33m.\u001b[0m\u001b[0mTitleOpts\u001b[0m\u001b[1;33m(\u001b[0m\u001b[0mtitle\u001b[0m\u001b[1;33m=\u001b[0m\u001b[1;34m\"避孕套商品销量区间分布柱状图\"\u001b[0m\u001b[1;33m)\u001b[0m\u001b[1;33m,\u001b[0m\u001b[1;33m\u001b[0m\u001b[1;33m\u001b[0m\u001b[0m\n",
      "\u001b[1;31mTypeError\u001b[0m: 'Categorical' object is not callable"
     ]
    }
   ],
   "source": [
    "# 设置切分区域\n",
    "listBins = [0, 1000, 5000, 10000, 50000, 100000, 1000000]\n",
    "# 设置切分后对应标签\n",
    "listLabels = ['一千以内', '一千到五千', '五千到一万', '一万到五万', '五万到十万', '十万以上']\n",
    "sales_count_list = pd.cut(data['sales'],\n",
    "                          bins=listBins,\n",
    "                          labels=listLabels,\n",
    "\n",
    ")\n",
    "# 生成柱状图\n",
    "bar = (\n",
    "    Bar()\n",
    "    .add_xaxis(list(sales_count_list.keys()))\n",
    "    .add_yaxis(\"\", list(sales_count_list.values()))\n",
    "    .set_global_opts(\n",
    "        title_opts=opts.TitleOpts(title=\"避孕套商品销量区间分布柱状图\"),\n",
    "        yaxis_opts=opts.AxisOpts(name=\"个商品\"),\n",
    "        xaxis_opts=opts.AxisOpts(name=\"销售件数\")\n",
    "    )\n",
    ")\n",
    "bar.render('sales-bar.html')"
   ]
  },
  {
   "cell_type": "code",
   "execution_count": null,
   "metadata": {},
   "outputs": [],
   "source": []
  }
 ],
 "metadata": {
  "kernelspec": {
   "display_name": "Python 3",
   "language": "python",
   "name": "python3"
  },
  "language_info": {
   "codemirror_mode": {
    "name": "ipython",
    "version": 3
   },
   "file_extension": ".py",
   "mimetype": "text/x-python",
   "name": "python",
   "nbconvert_exporter": "python",
   "pygments_lexer": "ipython3",
   "version": "3.7.3"
  }
 },
 "nbformat": 4,
 "nbformat_minor": 2
}
